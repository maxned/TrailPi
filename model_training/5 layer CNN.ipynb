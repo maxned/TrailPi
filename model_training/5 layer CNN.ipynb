{
 "cells": [
  {
   "cell_type": "code",
   "execution_count": null,
   "metadata": {},
   "outputs": [],
   "source": [
    "import pandas as pd\n",
    "import matplotlib.pyplot as plt\n",
    "%matplotlib inline\n",
    "from sklearn.model_selection import train_test_split\n",
    "from keras.utils.np_utils import to_categorical\n",
    "from keras.models import Sequential\n",
    "from keras.layers import Dense, Dropout, Flatten, Conv2D, MaxPool2D, BatchNormalization\n",
    "from keras.optimizers import Adam\n",
    "from keras.preprocessing.image import ImageDataGenerator\n",
    "from keras.callbacks import LearningRateScheduler"
   ]
  },
  {
   "cell_type": "code",
   "execution_count": null,
   "metadata": {},
   "outputs": [],
   "source": [
    "from PIL import Image\n",
    "import numpy as np\n",
    "import os\n",
    "import cv2"
   ]
  },
  {
   "cell_type": "code",
   "execution_count": null,
   "metadata": {},
   "outputs": [],
   "source": [
    "#create a cropper\n",
    "def crop_image(img):\n",
    "    w, h = img.size\n",
    "    return img.crop((0, 30, w, h-70)) # this seems to be the right amount to crop\n",
    "#cropped_img.show()"
   ]
  },
  {
   "cell_type": "code",
   "execution_count": null,
   "metadata": {},
   "outputs": [],
   "source": [
    "data = []\n",
    "labels = []\n",
    "\n",
    "animals = os.listdir(\"animals\")\n",
    "for animal in animals:\n",
    "    \n",
    "    img = Image.open(\"animals/\" + animal)\n",
    "    img = img.convert('RGB')\n",
    "    img = crop_image(img)\n",
    "    resized_image = img.resize((50, 50))\n",
    "    data.append(np.array(resized_image))\n",
    "    labels.append(0)\n"
   ]
  },
  {
   "cell_type": "code",
   "execution_count": null,
   "metadata": {},
   "outputs": [],
   "source": [
    "false_positives = os.listdir(\"nothing\")\n",
    "for false in false_positives:\n",
    "    \n",
    "    img = Image.open(\"nothing/\" + false)\n",
    "    img = img.convert('RGB')\n",
    "    img = crop_image(img)\n",
    "    resized_image = img.resize((50, 50))\n",
    "    data.append(np.array(resized_image))\n",
    "    labels.append(1)\n"
   ]
  },
  {
   "cell_type": "code",
   "execution_count": null,
   "metadata": {},
   "outputs": [],
   "source": [
    "useless_images = os.listdir(\"useless\")\n",
    "for useless in useless_images:\n",
    "    if useless.startswith('.'):\n",
    "        print(f'{useless} not read')\n",
    "    else:\n",
    "        img = Image.open(\"useless/\" + useless)\n",
    "        img = img.convert('RGB')\n",
    "        img = crop_image(img)\n",
    "        resized_image = img.resize((50, 50))\n",
    "        data.append(np.array(resized_image))\n",
    "        labels.append(0)"
   ]
  },
  {
   "cell_type": "code",
   "execution_count": null,
   "metadata": {},
   "outputs": [],
   "source": [
    "datagen = ImageDataGenerator(\n",
    "        rotation_range=10,\n",
    "        zoom_range = 0.1,\n",
    "        width_shift_range=0.1,\n",
    "        height_shift_range=0.1)\n",
    "\n"
   ]
  },
  {
   "cell_type": "code",
   "execution_count": null,
   "metadata": {},
   "outputs": [],
   "source": [
    "# Converting data and labels to np array\n",
    "trail_pics = np.array(data)\n",
    "labels = np.array(labels)"
   ]
  },
  {
   "cell_type": "code",
   "execution_count": null,
   "metadata": {},
   "outputs": [],
   "source": [
    "#shuffling animals and labels to get a good mixture\n",
    "s = np.arange(trail_pics.shape[0])\n",
    "np.random.shuffle(s)\n",
    "trail_pics = trail_pics[s]\n",
    "labels=labels[s]"
   ]
  },
  {
   "cell_type": "code",
   "execution_count": null,
   "metadata": {},
   "outputs": [],
   "source": [
    "#Make a variable num_classes which is the total \n",
    "#number of animal categories and a variable data_length which is size of dataset\n",
    "num_classes = len(np.unique(labels))\n",
    "data_length = len(trail_pics)\n"
   ]
  },
  {
   "cell_type": "code",
   "execution_count": null,
   "metadata": {},
   "outputs": [],
   "source": [
    "#Data split into train and test\n",
    "(x_train, x_test) = trail_pics[(int)(0.1 * data_length):],trail_pics[:(int)(0.1 * data_length)]\n",
    "x_train = x_train.astype('float32')/255.0\n",
    "x_test = x_test.astype('float32')/255.0\n",
    "train_length = len(x_train)\n",
    "test_length = len(x_test)"
   ]
  },
  {
   "cell_type": "code",
   "execution_count": null,
   "metadata": {},
   "outputs": [],
   "source": [
    "#lables split into train and test\n",
    "(y_train,y_test) = labels[(int)(0.1*data_length):],labels[:(int)(0.1*data_length)]"
   ]
  },
  {
   "cell_type": "code",
   "execution_count": null,
   "metadata": {},
   "outputs": [],
   "source": [
    "datagen.fit(x_train)"
   ]
  },
  {
   "cell_type": "code",
   "execution_count": null,
   "metadata": {},
   "outputs": [],
   "source": [
    "import keras\n",
    "from keras.utils import np_utils\n",
    "#One hot encoding\n",
    "y_train = keras.utils.to_categorical(y_train, num_classes)\n",
    "y_test = keras.utils.to_categorical(y_test, num_classes)"
   ]
  },
  {
   "cell_type": "code",
   "execution_count": null,
   "metadata": {},
   "outputs": [],
   "source": [
    "print(len(x_train))"
   ]
  },
  {
   "cell_type": "code",
   "execution_count": null,
   "metadata": {},
   "outputs": [],
   "source": [
    "\n",
    "model = Sequential()\n",
    "\n",
    "model.add(Conv2D(32, kernel_size=5,input_shape=(50, 50, 3), activation = 'relu'))\n",
    "model.add(Conv2D(32, kernel_size=5, activation = 'relu'))\n",
    "model.add(MaxPool2D(2,2))\n",
    "model.add(BatchNormalization())\n",
    "model.add(Dropout(0.4))\n",
    "\n",
    "model.add(Conv2D(64, kernel_size=3,activation = 'relu'))\n",
    "model.add(Conv2D(64, kernel_size=3,activation = 'relu'))\n",
    "model.add(MaxPool2D(2,2))\n",
    "model.add(BatchNormalization())\n",
    "model.add(Dropout(0.4))\n",
    "\n",
    "model.add(Conv2D(128, kernel_size=3, activation = 'relu'))\n",
    "model.add(BatchNormalization())\n",
    "\n",
    "model.add(Flatten())\n",
    "model.add(Dense(256, activation = \"relu\"))\n",
    "model.add(Dropout(0.4))\n",
    "model.add(Dense(128, activation = \"relu\"))\n",
    "model.add(Dropout(0.4))\n",
    "model.add(Dense(2, activation = \"softmax\"))"
   ]
  },
  {
   "cell_type": "code",
   "execution_count": null,
   "metadata": {},
   "outputs": [],
   "source": [
    "\n",
    "optimizer=Adam(lr=0.001)\n",
    "model.compile(optimizer = optimizer , loss = \"categorical_crossentropy\", metrics=[\"accuracy\"])\n",
    "\n",
    "model.summary()"
   ]
  },
  {
   "cell_type": "code",
   "execution_count": null,
   "metadata": {},
   "outputs": [],
   "source": [
    "model_try = model.fit_generator(datagen.flow(x_train,y_train, batch_size=64),\n",
    "                              epochs = 100000, validation_data = (x_test,y_test),\n",
    "                              verbose = 1, steps_per_epoch=100)"
   ]
  },
  {
   "cell_type": "code",
   "execution_count": null,
   "metadata": {},
   "outputs": [],
   "source": [
    "\n",
    "# ## Saving Model to JSON and weights\n",
    "\n",
    "# serialize model to JSON\n",
    "model_json = model.to_json()\n",
    "with open(\"UPDATED_model.json\", \"w\") as json_file:\n",
    "    json_file.write(model_json)\n",
    "# serialize weights to HDF5\n",
    "model.save_weights(\"UPDATED_model.h5\")\n",
    "print(\"Saved model to disk\")\n"
   ]
  },
  {
   "cell_type": "code",
   "execution_count": null,
   "metadata": {},
   "outputs": [],
   "source": [
    "def convert_to_array(img):\n",
    "    im = cv2.imread(img)\n",
    "    img = Image.fromarray(im, 'RGB')\n",
    "    image = img.resize((50, 50))\n",
    "    return np.array(image)\n",
    "def get_animal_name(label):\n",
    "    if label==0:\n",
    "        return \"animal\"\n",
    "    if label==1:\n",
    "        return \"nothing\"\n",
    "    if label==2:\n",
    "        return \"useless\"\n",
    "\n",
    "def predict_animal(file):\n",
    "    print(\"Predicting .................................\")\n",
    "    ar = convert_to_array(file)\n",
    "    ar = ar/255\n",
    "    label = 1\n",
    "    a = []\n",
    "    a.append(ar)\n",
    "    a = np.array(a)\n",
    "    score = model.predict(a,verbose = 1)\n",
    "    print(score)\n",
    "    label_index = np.argmax(score)\n",
    "    print(label_index)\n",
    "    acc = np.max(score)\n",
    "    animal = get_animal_name(label_index)\n",
    "    print(animal)\n",
    "    print(\"The predicted Animal is a \"+ animal +\" with accuracy =    \"+str(acc))"
   ]
  },
  {
   "cell_type": "code",
   "execution_count": null,
   "metadata": {},
   "outputs": [],
   "source": [
    "from matplotlib.pyplot import imshow\n",
    "import numpy as np\n",
    "from PIL import Image\n",
    "\n",
    "%matplotlib inline\n",
    "pil_im = Image.open('deer.JPG', 'r')\n",
    "pil_im = crop_image(pil_im)\n",
    "imshow(np.asarray(pil_im))\n",
    "predict_animal(\"deer.JPG\")"
   ]
  },
  {
   "cell_type": "code",
   "execution_count": null,
   "metadata": {},
   "outputs": [],
   "source": [
    "pil_im = Image.open('nothing.JPG', 'r')\n",
    "pil_im = crop_image(pil_im)\n",
    "imshow(np.asarray(pil_im))\n",
    "predict_animal(\"nothing.JPG\")"
   ]
  },
  {
   "cell_type": "code",
   "execution_count": null,
   "metadata": {},
   "outputs": [],
   "source": [
    "pil_im = Image.open('useless.JPG', 'r')\n",
    "pil_im = crop_image(pil_im)\n",
    "imshow(np.asarray(pil_im))\n",
    "predict_animal(\"useless.JPG\")"
   ]
  },
  {
   "cell_type": "code",
   "execution_count": null,
   "metadata": {},
   "outputs": [],
   "source": []
  }
 ],
 "metadata": {
  "kernelspec": {
   "display_name": "Python 3",
   "language": "python",
   "name": "python3"
  },
  "language_info": {
   "codemirror_mode": {
    "name": "ipython",
    "version": 3
   },
   "file_extension": ".py",
   "mimetype": "text/x-python",
   "name": "python",
   "nbconvert_exporter": "python",
   "pygments_lexer": "ipython3",
   "version": "3.6.8"
  }
 },
 "nbformat": 4,
 "nbformat_minor": 2
}
